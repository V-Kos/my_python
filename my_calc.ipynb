{
 "cells": [
  {
   "cell_type": "code",
   "execution_count": 4,
   "metadata": {},
   "outputs": [
    {
     "name": "stdin",
     "output_type": "stream",
     "text": [
      "x= 2\n",
      "y= l\n"
     ]
    },
    {
     "name": "stdout",
     "output_type": "stream",
     "text": [
      "Здесь ошибка преобразования типов!\n"
     ]
    },
    {
     "name": "stdin",
     "output_type": "stream",
     "text": [
      "Выберете действие(+,-,*,/)= w\n"
     ]
    },
    {
     "name": "stdout",
     "output_type": "stream",
     "text": [
      "Нет такой операции\n"
     ]
    }
   ],
   "source": [
    "try:\n",
    "    x = float(input(\"x=\"))\n",
    "except ValueError:\n",
    "    print(\"Здесь ошибка преобразования типов!\")\n",
    "try:\n",
    "    y = float(input(\"y=\"))\n",
    "except ValueError:\n",
    "    print(\"Здесь ошибка преобразования типов!\")\n",
    "znak=input(\"Выберете действие(+,-,*,/)=\")\n",
    "if znak in ('+','-','*','/'):\n",
    "    if znak=='+':\n",
    "        print(float(x+y))\n",
    "    elif znak=='-':\n",
    "        print(float(x-y))\n",
    "    elif znak=='*':\n",
    "        print(float(x*y))\n",
    "    elif znak=='/':\n",
    "        try:\n",
    "            print(x/y)\n",
    "        except ZeroDivisionError:\n",
    "            print(\"Нельзя делить на 0\")\n",
    "else:\n",
    "    print(\"Нет такой операции\")"
   ]
  },
  {
   "cell_type": "code",
   "execution_count": null,
   "metadata": {},
   "outputs": [],
   "source": []
  },
  {
   "cell_type": "code",
   "execution_count": null,
   "metadata": {},
   "outputs": [],
   "source": []
  }
 ],
 "metadata": {
  "kernelspec": {
   "display_name": "Python 3",
   "language": "python",
   "name": "python3"
  },
  "language_info": {
   "codemirror_mode": {
    "name": "ipython",
    "version": 3
   },
   "file_extension": ".py",
   "mimetype": "text/x-python",
   "name": "python",
   "nbconvert_exporter": "python",
   "pygments_lexer": "ipython3",
   "version": "3.7.4"
  }
 },
 "nbformat": 4,
 "nbformat_minor": 4
}
