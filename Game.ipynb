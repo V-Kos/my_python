{
 "cells": [
  {
   "cell_type": "code",
   "execution_count": 177,
   "metadata": {},
   "outputs": [],
   "source": [
    "\n",
    "class Person1:\n",
    "    name = \"Герой_1(Летающий,по всей видимости)\"\n",
    "    def __init__(self, x=0, y=0):\n",
    "        self.x = x\n",
    "        self.y = y\n",
    "        print(f\"Ваше начальное положение ({x},{y})\")\n",
    "\n",
    "    def run(self, x):\n",
    "        self.x = x\n",
    "        print(f'координата на земле {self.x}, координата в воздухе {self.y}')\n",
    "    def coordinates(self):\n",
    "        return print(f'координата x = {self.x}, координата y = {self.y}')\n",
    "    def fly(self, y):\n",
    "        self.y = y\n",
    "        print(f'координата на земле {self.x}, координата в воздухе {self.y}')\n",
    "    def fire(self):\n",
    "        print(\"Стреляю,наверное\")\n",
    "    def take(self):\n",
    "        import random\n",
    "        buffs= ['замедлен', 'стал сильнее(вряд-ли)', 'стал тупее(точно)', '.....не знаю =(', 'стал быстрее(очень)']\n",
    "        print(\"Сейчас я \"+random.choice(buffs))\n",
    "class Person2(Person1):\n",
    "    name=\"Герой_2(Тоже летающий,я так думаю)\"\n",
    "    def __init__(self, x=0, y=0):\n",
    "        self.x = x\n",
    "        self.y = y\n",
    "        print(f\"Ваше начальное положение ({x},{y})\")\n",
    "class Person3:\n",
    "    name=\"Герой_3(Не летает,но зато вроде прыгает)\"\n",
    "    def __init__(self, x=0, y=0):\n",
    "        self.x = x\n",
    "        self.y = y\n",
    "        print(f\"Ваше начальное положение ({x},{y})\")\n",
    "    def coordinates(self):\n",
    "        return print(f'координата x = {self.x}, координата y = {self.y}')\n",
    "\n",
    "    def run(self, x):\n",
    "        self.x = x\n",
    "        print(f'координата на земле {self.x}, координата в воздухе {self.y}')\n",
    "    def jump(self, x):\n",
    "        self.x = x*3\n",
    "        print(f'координата на земле {self.x}, координата в воздухе {self.y}')\n",
    "    def fire(self):\n",
    "        print(\"Стреляю,наверное\")\n",
    "    def take(self):\n",
    "        import random\n",
    "        buffs= ['замедлен', 'стал сильнее(вряд-ли)', 'стал тупее(точно)', '.....не знаю =(', 'стал быстрее(очень)']\n",
    "        print(\"Сейчас я \"+random.choice(buffs))\n",
    "\n"
   ]
  },
  {
   "cell_type": "code",
   "execution_count": 178,
   "metadata": {},
   "outputs": [
    {
     "name": "stdout",
     "output_type": "stream",
     "text": [
      "Ваше начальное положение (0,0)\n",
      "Ваше начальное положение (0,0)\n",
      "Ваше начальное положение (0,0)\n"
     ]
    }
   ],
   "source": [
    "p1=Person1()\n",
    "p2=Person2()\n",
    "p3=Person3()"
   ]
  },
  {
   "cell_type": "code",
   "execution_count": 173,
   "metadata": {},
   "outputs": [
    {
     "name": "stdout",
     "output_type": "stream",
     "text": [
      "координата на земле 2, координата в воздухе 0\n",
      "координата x = 2, координата y = 0\n",
      "Стреляю,наверное\n",
      "Сейчас я .....не знаю =(\n",
      "координата на земле 2, координата в воздухе 10\n"
     ]
    }
   ],
   "source": [
    "p1.name\n",
    "p1.run(2)\n",
    "p1.coordinates()\n",
    "p1.fire()\n",
    "p1.take()\n",
    ".fly(10)p1"
   ]
  },
  {
   "cell_type": "code",
   "execution_count": 175,
   "metadata": {},
   "outputs": [
    {
     "name": "stdout",
     "output_type": "stream",
     "text": [
      "координата на земле 0, координата в воздухе 10\n"
     ]
    }
   ],
   "source": [
    "p2.name\n",
    "p2.fly(10)"
   ]
  },
  {
   "cell_type": "code",
   "execution_count": 180,
   "metadata": {},
   "outputs": [
    {
     "name": "stdout",
     "output_type": "stream",
     "text": [
      "координата на земле 6, координата в воздухе 0\n"
     ]
    }
   ],
   "source": [
    "p3.jump(2)"
   ]
  },
  {
   "cell_type": "code",
   "execution_count": 181,
   "metadata": {},
   "outputs": [
    {
     "name": "stdout",
     "output_type": "stream",
     "text": [
      "координата x = 6, координата y = 0\n"
     ]
    }
   ],
   "source": [
    "p3.coordinates()"
   ]
  },
  {
   "cell_type": "code",
   "execution_count": null,
   "metadata": {},
   "outputs": [],
   "source": []
  }
 ],
 "metadata": {
  "kernelspec": {
   "display_name": "Python 3",
   "language": "python",
   "name": "python3"
  },
  "language_info": {
   "codemirror_mode": {
    "name": "ipython",
    "version": 3
   },
   "file_extension": ".py",
   "mimetype": "text/x-python",
   "name": "python",
   "nbconvert_exporter": "python",
   "pygments_lexer": "ipython3",
   "version": "3.7.4"
  }
 },
 "nbformat": 4,
 "nbformat_minor": 4
}
