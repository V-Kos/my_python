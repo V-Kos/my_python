{
 "cells": [
  {
   "cell_type": "code",
   "execution_count": null,
   "metadata": {},
   "outputs": [],
   "source": [
    "def ff():\n",
    "    s=[]\n",
    "    print(\"1-добавить задачу\",\"2-посмотреть задачи\",\"3-выход\")\n",
    "    d = input(\"Введите операцию: \")\n",
    "    while d!=3:\n",
    "        if d==\"1\":\n",
    "            zadaja= input(\"Введите задание:\")\n",
    "            categ=input(\"Введите категорию:\")\n",
    "            time=input('Введите время:')\n",
    "            s.append({ \"name:\":zadaja,\"category:\":categ,\"time\":time})\n",
    "            print(\"1-добавить задачу\",\"2-посмотреть задачи\",\"3-выход\")\n",
    "            d = input(\"Введите операцию: \")\n",
    "        elif d==\"2\":\n",
    "            print(s)\n",
    "            print(\"1-добавить задачу\",\"2-посмотреть задачи\",\"3-выход\")\n",
    "            d = input(\"Введите операцию: \")\n",
    "        elif d==\"3\":\n",
    "            print('До свидания!')\n",
    "            break\n",
    "        else:\n",
    "            print(\"нет такой операции\")\n",
    "            print(\"1-добавить задачу\",\"2-посмотреть задачи\",\"3-выход\")\n",
    "            d = input(\"Введите операцию: \")\n",
    "           "
   ]
  },
  {
   "cell_type": "code",
   "execution_count": null,
   "metadata": {},
   "outputs": [
    {
     "name": "stdout",
     "output_type": "stream",
     "text": [
      "1-добавить задачу 2-посмотреть задачи 3-выход\n"
     ]
    },
    {
     "name": "stdin",
     "output_type": "stream",
     "text": [
      "Введите операцию:  2\n"
     ]
    },
    {
     "name": "stdout",
     "output_type": "stream",
     "text": [
      "[]\n",
      "1-добавить задачу 2-посмотреть задачи 3-выход\n"
     ]
    }
   ],
   "source": [
    "ff()"
   ]
  },
  {
   "cell_type": "code",
   "execution_count": null,
   "metadata": {},
   "outputs": [],
   "source": []
  }
 ],
 "metadata": {
  "kernelspec": {
   "display_name": "Python 3",
   "language": "python",
   "name": "python3"
  },
  "language_info": {
   "codemirror_mode": {
    "name": "ipython",
    "version": 3
   },
   "file_extension": ".py",
   "mimetype": "text/x-python",
   "name": "python",
   "nbconvert_exporter": "python",
   "pygments_lexer": "ipython3",
   "version": "3.7.4"
  }
 },
 "nbformat": 4,
 "nbformat_minor": 4
}
