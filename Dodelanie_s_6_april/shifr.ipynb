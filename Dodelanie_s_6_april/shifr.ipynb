{
 "cells": [
  {
   "cell_type": "code",
   "execution_count": 64,
   "metadata": {},
   "outputs": [
    {
     "name": "stdout",
     "output_type": "stream",
     "text": [
      "Overwriting wordd.txt\n"
     ]
    }
   ],
   "source": [
    "%%writefile wordd.txt\n",
    "    ABCD"
   ]
  },
  {
   "cell_type": "code",
   "execution_count": 66,
   "metadata": {},
   "outputs": [],
   "source": [
    "d = {\"a\" : 1,\"b\" : 2,\"c\" : 3,\"d\" : 4}"
   ]
  },
  {
   "cell_type": "code",
   "execution_count": 81,
   "metadata": {},
   "outputs": [],
   "source": [
    "def shifr(name1,name2,code):\n",
    "    final = ''\n",
    "    with open(name1,'r', encoding=\"utf8\") as file1:\n",
    "        with open(name2,'w', encoding=\"utf8\") as file2:\n",
    "            for i in file1:\n",
    "                for j in i.lower():\n",
    "                    if j in code:\n",
    "                        final += str(code[j])\n",
    "                    else:\n",
    "                        final += j\n",
    "                file2.write(final)\n",
    "                        \n",
    "        return final"
   ]
  },
  {
   "cell_type": "code",
   "execution_count": 84,
   "metadata": {},
   "outputs": [
    {
     "data": {
      "text/plain": [
       "'    1234\\n'"
      ]
     },
     "execution_count": 84,
     "metadata": {},
     "output_type": "execute_result"
    }
   ],
   "source": [
    "shifr('wordd.txt','qqq',d)"
   ]
  }
 ],
 "metadata": {
  "kernelspec": {
   "display_name": "Python 3",
   "language": "python",
   "name": "python3"
  },
  "language_info": {
   "codemirror_mode": {
    "name": "ipython",
    "version": 3
   },
   "file_extension": ".py",
   "mimetype": "text/x-python",
   "name": "python",
   "nbconvert_exporter": "python",
   "pygments_lexer": "ipython3",
   "version": "3.7.4"
  }
 },
 "nbformat": 4,
 "nbformat_minor": 4
}
