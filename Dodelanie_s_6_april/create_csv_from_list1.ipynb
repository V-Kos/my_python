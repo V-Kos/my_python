{
 "cells": [
  {
   "cell_type": "code",
   "execution_count": 7,
   "metadata": {},
   "outputs": [],
   "source": [
    "import csv\n",
    "def create_csv_from_list(Name, listt):\n",
    "    stroka=['name,','address,','age,']\n",
    "    with open(f'{Name}.csv', 'w',encoding=\"utf8\") as file:\n",
    "        csvfile = csv.writer(file)\n",
    "        csvfile.writerow(stroka)\n",
    "        csvfile.writerows(listt)\n",
    "    "
   ]
  },
  {
   "cell_type": "code",
   "execution_count": 11,
   "metadata": {},
   "outputs": [],
   "source": [
    "create_csv_from_list(\"mmm\",[('Георгий', 'Невский проспект', '22'), ('Иван', 'пр. Ветеранов', '21')])"
   ]
  },
  {
   "cell_type": "code",
   "execution_count": null,
   "metadata": {},
   "outputs": [],
   "source": []
  }
 ],
 "metadata": {
  "kernelspec": {
   "display_name": "Python 3",
   "language": "python",
   "name": "python3"
  },
  "language_info": {
   "codemirror_mode": {
    "name": "ipython",
    "version": 3
   },
   "file_extension": ".py",
   "mimetype": "text/x-python",
   "name": "python",
   "nbconvert_exporter": "python",
   "pygments_lexer": "ipython3",
   "version": "3.7.4"
  }
 },
 "nbformat": 4,
 "nbformat_minor": 4
}
