{
 "cells": [
  {
   "cell_type": "code",
   "execution_count": 2,
   "metadata": {},
   "outputs": [
    {
     "name": "stdout",
     "output_type": "stream",
     "text": [
      "Writing commands.txt,\n"
     ]
    }
   ],
   "source": [
    "    %%writefile commands.txt,\n",
    "    Да, разумеется!\n",
    "    Вне всяких сомнений, да!\n",
    "    Можно рассчитывать, что да.\n",
    "    Наверняка.\n",
    "    Спросите меня позже.\n",
    "    Не уверен.\n",
    "    Прямо сейчас не готов сказать.\n",
    "    Расскажу после отдыха.\n",
    "    Никаких шансов.\n",
    "    Не думаю, что будет так.\n",
    "    Вне всяких сомнений, нет!\n",
    "    Совершенно очевидно, что нет!"
   ]
  },
  {
   "cell_type": "code",
   "execution_count": 11,
   "metadata": {},
   "outputs": [
    {
     "name": "stdout",
     "output_type": "stream",
     "text": [
      "Волшебный шар приветсвует Вас!\n",
      "1-Задать вопрос шару \n",
      "любая другая цифра-Выйти\n"
     ]
    },
    {
     "name": "stdin",
     "output_type": "stream",
     "text": [
      " 1\n",
      "Введите вопрос:  asd\n"
     ]
    },
    {
     "name": "stdout",
     "output_type": "stream",
     "text": [
      "Наверняка.\n"
     ]
    },
    {
     "name": "stdin",
     "output_type": "stream",
     "text": [
      "1 1\n"
     ]
    },
    {
     "name": "stdout",
     "output_type": "stream",
     "text": [
      "1-Задать вопрос шару \n",
      "любая другая цифра-Выйти\n"
     ]
    },
    {
     "name": "stdin",
     "output_type": "stream",
     "text": [
      " 2\n"
     ]
    },
    {
     "name": "stdout",
     "output_type": "stream",
     "text": [
      "Пока!\n"
     ]
    }
   ],
   "source": [
    " import random\n",
    "with open(\"commands.txt\",'r', encoding=\"utf8\") as file:\n",
    "    listt=file.read().split('\\n')\n",
    "    k=1\n",
    "    print('Волшебный шар приветсвует Вас!')\n",
    "    while k==1:\n",
    "        print('1-Задать вопрос шару \\nлюбая другая цифра-Выйти')\n",
    "        k=int(input())\n",
    "        if k==1:\n",
    "            input('Введите вопрос: ')\n",
    "            print(random.choice(listt))\n",
    "            int(input(k))\n",
    "        else:\n",
    "            print('Пока!')\n",
    "        \n",
    "            \n",
    "            \n",
    "            "
   ]
  }
 ],
 "metadata": {
  "kernelspec": {
   "display_name": "Python 3",
   "language": "python",
   "name": "python3"
  },
  "language_info": {
   "codemirror_mode": {
    "name": "ipython",
    "version": 3
   },
   "file_extension": ".py",
   "mimetype": "text/x-python",
   "name": "python",
   "nbconvert_exporter": "python",
   "pygments_lexer": "ipython3",
   "version": "3.7.4"
  }
 },
 "nbformat": 4,
 "nbformat_minor": 4
}
