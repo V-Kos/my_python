{
 "cells": [
  {
   "cell_type": "code",
   "execution_count": 2,
   "metadata": {},
   "outputs": [
    {
     "name": "stdout",
     "output_type": "stream",
     "text": [
      "['Call me Ishmael.  Some years ago--never mind how long precisely--\\n', 'having little or no money in my purse, and nothing particular\\n', 'to interest me on shore, I thought I would sail about a little\\n', 'and see the watery part of the world.  It is a way I have\\n', 'of driving off the spleen and regulating the circulation.\\n', 'Whenever I find myself growing grim about the mouth;\\n', 'whenever it is a damp, drizzly November in my soul; whenever I\\n', 'find myself involuntarily pausing before coffin warehouses,\\n', 'and bringing up the rear of every funeral I meet;\\n', 'and especially whenever my hypos get such an upper hand of me,\\n', 'that it requires a strong moral principle to prevent me from\\n', 'deliberately stepping into the street, and methodically knocking\\n', \"people's hats off--then, I account it high time to get to sea\\n\", 'as soon as I can.  This is my substitute for pistol and ball.\\n', 'With a philosophical flourish Cato throws himself upon his sword;\\n', 'I quietly take to the ship.  There is nothing surprising in this.\\n', 'If they but knew it, almost all men in their degree, some time\\n', 'or other, cherish very nearly the same feelings towards\\n', 'the ocean with me.\\n', '\\n', 'There now is your insular city of the Manhattoes, belted round by wharves\\n', 'as Indian isles by coral reefs--commerce surrounds it with her surf.\\n', 'Right and left, the streets take you waterward.  Its extreme downtown\\n', 'is the battery, where that noble mole is washed by waves, and cooled\\n', 'by breezes, which a few hours previous were out of sight of land.\\n', 'Look at the crowds of water-gazers there.']\n"
     ]
    }
   ],
   "source": [
    "with open('moby.txt','r') as file:\n",
    "    lines=file.readlines()\n",
    "print(lines)"
   ]
  },
  {
   "cell_type": "code",
   "execution_count": 3,
   "metadata": {},
   "outputs": [],
   "source": [
    "result = [str(item) for item in lines]"
   ]
  },
  {
   "cell_type": "code",
   "execution_count": 4,
   "metadata": {},
   "outputs": [
    {
     "name": "stdout",
     "output_type": "stream",
     "text": [
      "['CALL ME ISHMAEL.  SOME YEARS AGO--NEVER MIND HOW LONG PRECISELY--\\n', 'HAVING LITTLE OR NO MONEY IN MY PURSE, AND NOTHING PARTICULAR\\n', 'TO INTEREST ME ON SHORE, I THOUGHT I WOULD SAIL ABOUT A LITTLE\\n', 'AND SEE THE WATERY PART OF THE WORLD.  IT IS A WAY I HAVE\\n', 'OF DRIVING OFF THE SPLEEN AND REGULATING THE CIRCULATION.\\n', 'WHENEVER I FIND MYSELF GROWING GRIM ABOUT THE MOUTH;\\n', 'WHENEVER IT IS A DAMP, DRIZZLY NOVEMBER IN MY SOUL; WHENEVER I\\n', 'FIND MYSELF INVOLUNTARILY PAUSING BEFORE COFFIN WAREHOUSES,\\n', 'AND BRINGING UP THE REAR OF EVERY FUNERAL I MEET;\\n', 'AND ESPECIALLY WHENEVER MY HYPOS GET SUCH AN UPPER HAND OF ME,\\n', 'THAT IT REQUIRES A STRONG MORAL PRINCIPLE TO PREVENT ME FROM\\n', 'DELIBERATELY STEPPING INTO THE STREET, AND METHODICALLY KNOCKING\\n', \"PEOPLE'S HATS OFF--THEN, I ACCOUNT IT HIGH TIME TO GET TO SEA\\n\", 'AS SOON AS I CAN.  THIS IS MY SUBSTITUTE FOR PISTOL AND BALL.\\n', 'WITH A PHILOSOPHICAL FLOURISH CATO THROWS HIMSELF UPON HIS SWORD;\\n', 'I QUIETLY TAKE TO THE SHIP.  THERE IS NOTHING SURPRISING IN THIS.\\n', 'IF THEY BUT KNEW IT, ALMOST ALL MEN IN THEIR DEGREE, SOME TIME\\n', 'OR OTHER, CHERISH VERY NEARLY THE SAME FEELINGS TOWARDS\\n', 'THE OCEAN WITH ME.\\n', '\\n', 'THERE NOW IS YOUR INSULAR CITY OF THE MANHATTOES, BELTED ROUND BY WHARVES\\n', 'AS INDIAN ISLES BY CORAL REEFS--COMMERCE SURROUNDS IT WITH HER SURF.\\n', 'RIGHT AND LEFT, THE STREETS TAKE YOU WATERWARD.  ITS EXTREME DOWNTOWN\\n', 'IS THE BATTERY, WHERE THAT NOBLE MOLE IS WASHED BY WAVES, AND COOLED\\n', 'BY BREEZES, WHICH A FEW HOURS PREVIOUS WERE OUT OF SIGHT OF LAND.\\n', 'LOOK AT THE CROWDS OF WATER-GAZERS THERE.']\n"
     ]
    }
   ],
   "source": [
    "n_list=[]\n",
    "for n in range(len(result)):\n",
    "    n_list.append(result[n].upper())\n",
    "print(n_list)"
   ]
  },
  {
   "cell_type": "code",
   "execution_count": 18,
   "metadata": {},
   "outputs": [
    {
     "name": "stdout",
     "output_type": "stream",
     "text": [
      "['CALL ME ISHMAEL  SOME YEARS AGONEVER MIND HOW LONG PRECISELY\\n', 'HAVING LITTLE OR NO MONEY IN MY PURSE AND NOTHING PARTICULAR\\n', 'TO INTEREST ME ON SHORE I THOUGHT I WOULD SAIL ABOUT A LITTLE\\n', 'AND SEE THE WATERY PART OF THE WORLD  IT IS A WAY I HAVE\\n', 'OF DRIVING OFF THE SPLEEN AND REGULATING THE CIRCULATION\\n', 'WHENEVER I FIND MYSELF GROWING GRIM ABOUT THE MOUTH\\n', 'WHENEVER IT IS A DAMP DRIZZLY NOVEMBER IN MY SOUL WHENEVER I\\n', 'FIND MYSELF INVOLUNTARILY PAUSING BEFORE COFFIN WAREHOUSES\\n', 'AND BRINGING UP THE REAR OF EVERY FUNERAL I MEET\\n', 'AND ESPECIALLY WHENEVER MY HYPOS GET SUCH AN UPPER HAND OF ME\\n', 'THAT IT REQUIRES A STRONG MORAL PRINCIPLE TO PREVENT ME FROM\\n', 'DELIBERATELY STEPPING INTO THE STREET AND METHODICALLY KNOCKING\\n', 'PEOPLES HATS OFFTHEN I ACCOUNT IT HIGH TIME TO GET TO SEA\\n', 'AS SOON AS I CAN  THIS IS MY SUBSTITUTE FOR PISTOL AND BALL\\n', 'WITH A PHILOSOPHICAL FLOURISH CATO THROWS HIMSELF UPON HIS SWORD\\n', 'I QUIETLY TAKE TO THE SHIP  THERE IS NOTHING SURPRISING IN THIS\\n', 'IF THEY BUT KNEW IT ALMOST ALL MEN IN THEIR DEGREE SOME TIME\\n', 'OR OTHER CHERISH VERY NEARLY THE SAME FEELINGS TOWARDS\\n', 'THE OCEAN WITH ME\\n', '\\n', 'THERE NOW IS YOUR INSULAR CITY OF THE MANHATTOES BELTED ROUND BY WHARVES\\n', 'AS INDIAN ISLES BY CORAL REEFSCOMMERCE SURROUNDS IT WITH HER SURF\\n', 'RIGHT AND LEFT THE STREETS TAKE YOU WATERWARD  ITS EXTREME DOWNTOWN\\n', 'IS THE BATTERY WHERE THAT NOBLE MOLE IS WASHED BY WAVES AND COOLED\\n', 'BY BREEZES WHICH A FEW HOURS PREVIOUS WERE OUT OF SIGHT OF LAND\\n', 'LOOK AT THE CROWDS OF WATERGAZERS THERE']\n"
     ]
    }
   ],
   "source": [
    "import string\n",
    "list2=[]\n",
    "p = str.maketrans(dict.fromkeys(string.punctuation))\n",
    "for i in range(len(n_list)):\n",
    "    list2.append(n_list[i].translate(p))\n",
    "print(list2)\n",
    "    \n",
    "    \n",
    "    "
   ]
  },
  {
   "cell_type": "code",
   "execution_count": null,
   "metadata": {},
   "outputs": [],
   "source": []
  }
 ],
 "metadata": {
  "kernelspec": {
   "display_name": "Python 3",
   "language": "python",
   "name": "python3"
  },
  "language_info": {
   "codemirror_mode": {
    "name": "ipython",
    "version": 3
   },
   "file_extension": ".py",
   "mimetype": "text/x-python",
   "name": "python",
   "nbconvert_exporter": "python",
   "pygments_lexer": "ipython3",
   "version": "3.7.4"
  }
 },
 "nbformat": 4,
 "nbformat_minor": 4
}
