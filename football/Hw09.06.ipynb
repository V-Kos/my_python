{
 "cells": [
  {
   "cell_type": "code",
   "execution_count": 14,
   "metadata": {},
   "outputs": [
    {
     "ename": "ModuleNotFoundError",
     "evalue": "No module named 'pymorphy2'",
     "output_type": "error",
     "traceback": [
      "\u001b[1;31m---------------------------------------------------------------------------\u001b[0m",
      "\u001b[1;31mModuleNotFoundError\u001b[0m                       Traceback (most recent call last)",
      "\u001b[1;32m<ipython-input-14-5e82b74dac69>\u001b[0m in \u001b[0;36m<module>\u001b[1;34m\u001b[0m\n\u001b[0;32m      1\u001b[0m \u001b[1;32mimport\u001b[0m \u001b[0mpandas\u001b[0m \u001b[1;32mas\u001b[0m \u001b[0mpd\u001b[0m\u001b[1;33m\u001b[0m\u001b[1;33m\u001b[0m\u001b[0m\n\u001b[1;32m----> 2\u001b[1;33m \u001b[1;32mimport\u001b[0m \u001b[0mpymorphy2\u001b[0m\u001b[1;33m\u001b[0m\u001b[1;33m\u001b[0m\u001b[0m\n\u001b[0m\u001b[0;32m      3\u001b[0m \u001b[1;32mimport\u001b[0m \u001b[0mrequests\u001b[0m\u001b[1;33m\u001b[0m\u001b[1;33m\u001b[0m\u001b[0m\n\u001b[0;32m      4\u001b[0m \u001b[1;32mimport\u001b[0m \u001b[0mmatplotlib\u001b[0m\u001b[1;33m.\u001b[0m\u001b[0mpyplot\u001b[0m \u001b[1;32mas\u001b[0m \u001b[0mplt\u001b[0m\u001b[1;33m\u001b[0m\u001b[1;33m\u001b[0m\u001b[0m\n\u001b[0;32m      5\u001b[0m \u001b[1;32mimport\u001b[0m \u001b[0mjson\u001b[0m\u001b[1;33m\u001b[0m\u001b[1;33m\u001b[0m\u001b[0m\n",
      "\u001b[1;31mModuleNotFoundError\u001b[0m: No module named 'pymorphy2'"
     ]
    }
   ],
   "source": [
    "import pandas as pd\n",
    "import pymorphy2\n",
    "import requests\n",
    "import matplotlib.pyplot as plt\n",
    "import json\n",
    "import pandas as pd\n",
    "import ssl"
   ]
  },
  {
   "cell_type": "code",
   "execution_count": 7,
   "metadata": {},
   "outputs": [],
   "source": [
    "with open('datesss.txt', encoding='utf8') as d:\n",
    "    full_file = d.readlines()\n",
    "listt=[json.loads(a) for a in ful if 'index' not in a]\n",
    "listt2=pd.DataFrame(listic)"
   ]
  },
  {
   "cell_type": "code",
   "execution_count": 10,
   "metadata": {},
   "outputs": [],
   "source": [
    "l1=listt2[['vacancy','income']][s['income']!='не указан']"
   ]
  },
  {
   "cell_type": "code",
   "execution_count": 11,
   "metadata": {},
   "outputs": [
    {
     "data": {
      "text/html": [
       "<div>\n",
       "<style scoped>\n",
       "    .dataframe tbody tr th:only-of-type {\n",
       "        vertical-align: middle;\n",
       "    }\n",
       "\n",
       "    .dataframe tbody tr th {\n",
       "        vertical-align: top;\n",
       "    }\n",
       "\n",
       "    .dataframe thead th {\n",
       "        text-align: right;\n",
       "    }\n",
       "</style>\n",
       "<table border=\"1\" class=\"dataframe\">\n",
       "  <thead>\n",
       "    <tr style=\"text-align: right;\">\n",
       "      <th></th>\n",
       "      <th>vacancy</th>\n",
       "      <th>income</th>\n",
       "    </tr>\n",
       "  </thead>\n",
       "  <tbody>\n",
       "    <tr>\n",
       "      <td>0</td>\n",
       "      <td>Начинающий специалист по залоговому кредитованию</td>\n",
       "      <td>от 55 000 руб.</td>\n",
       "    </tr>\n",
       "    <tr>\n",
       "      <td>1</td>\n",
       "      <td>Начинающий специалист в банк</td>\n",
       "      <td>от 50 000 руб.</td>\n",
       "    </tr>\n",
       "    <tr>\n",
       "      <td>2</td>\n",
       "      <td>Менеджер по работе с корпоративными клиентами ...</td>\n",
       "      <td>от 50 000 до 150 000 руб.</td>\n",
       "    </tr>\n",
       "    <tr>\n",
       "      <td>3</td>\n",
       "      <td>Менеджер по привлечению юридических лиц</td>\n",
       "      <td>от 80 000 руб.</td>\n",
       "    </tr>\n",
       "    <tr>\n",
       "      <td>4</td>\n",
       "      <td>Менеджер по привлечению юридических лиц</td>\n",
       "      <td>от 80 000 руб.</td>\n",
       "    </tr>\n",
       "    <tr>\n",
       "      <td>...</td>\n",
       "      <td>...</td>\n",
       "      <td>...</td>\n",
       "    </tr>\n",
       "    <tr>\n",
       "      <td>2694</td>\n",
       "      <td>Агент по доставке продуктов Тинькофф</td>\n",
       "      <td>от 40 000 руб.</td>\n",
       "    </tr>\n",
       "    <tr>\n",
       "      <td>2695</td>\n",
       "      <td>Агент по доставке продуктов Тинькофф</td>\n",
       "      <td>от 50 000 руб.</td>\n",
       "    </tr>\n",
       "    <tr>\n",
       "      <td>2696</td>\n",
       "      <td>Агент по доставке продуктов Тинькофф</td>\n",
       "      <td>от 35 000 руб.</td>\n",
       "    </tr>\n",
       "    <tr>\n",
       "      <td>2697</td>\n",
       "      <td>Представитель Тинькофф</td>\n",
       "      <td>от 40 000 руб.</td>\n",
       "    </tr>\n",
       "    <tr>\n",
       "      <td>2699</td>\n",
       "      <td>Агент по доставке продуктов Тинькофф</td>\n",
       "      <td>от 40 000 руб.</td>\n",
       "    </tr>\n",
       "  </tbody>\n",
       "</table>\n",
       "<p>1905 rows × 2 columns</p>\n",
       "</div>"
      ],
      "text/plain": [
       "                                                vacancy  \\\n",
       "0      Начинающий специалист по залоговому кредитованию   \n",
       "1                          Начинающий специалист в банк   \n",
       "2     Менеджер по работе с корпоративными клиентами ...   \n",
       "3               Менеджер по привлечению юридических лиц   \n",
       "4               Менеджер по привлечению юридических лиц   \n",
       "...                                                 ...   \n",
       "2694               Агент по доставке продуктов Тинькофф   \n",
       "2695               Агент по доставке продуктов Тинькофф   \n",
       "2696               Агент по доставке продуктов Тинькофф   \n",
       "2697                             Представитель Тинькофф   \n",
       "2699               Агент по доставке продуктов Тинькофф   \n",
       "\n",
       "                         income  \n",
       "0                от 55 000 руб.  \n",
       "1                от 50 000 руб.  \n",
       "2     от 50 000 до 150 000 руб.  \n",
       "3                от 80 000 руб.  \n",
       "4                от 80 000 руб.  \n",
       "...                         ...  \n",
       "2694             от 40 000 руб.  \n",
       "2695             от 50 000 руб.  \n",
       "2696             от 35 000 руб.  \n",
       "2697             от 40 000 руб.  \n",
       "2699             от 40 000 руб.  \n",
       "\n",
       "[1905 rows x 2 columns]"
      ]
     },
     "execution_count": 11,
     "metadata": {},
     "output_type": "execute_result"
    }
   ],
   "source": [
    "l1"
   ]
  },
  {
   "cell_type": "code",
   "execution_count": 13,
   "metadata": {},
   "outputs": [
    {
     "data": {
      "text/plain": [
       "представитель тинькофф                              11\n",
       "консультант по работе с клиентами                    8\n",
       "агент по доставке продуктов тинькофф                 8\n",
       "менеджер по работе с клиентами                       7\n",
       "менеджер по доставке продуктов банка                 7\n",
       "                                                    ..\n",
       "инженер (сопровождение процессингового центра)       1\n",
       "менеджер по региональному развитию                   1\n",
       "специалист в банк                                    1\n",
       "специалист по проверке кредитных заявок              1\n",
       "руководитель группы поддержки партнёрских продаж     1\n",
       "Name: vacancy, Length: 173, dtype: int64"
      ]
     },
     "execution_count": 13,
     "metadata": {},
     "output_type": "execute_result"
    }
   ],
   "source": [
    "l1['vacancy']=l1['vacancy'].str.lower()\n",
    "l1=l1.drop_duplicates()\n",
    "l1['vacancy'].value_counts()"
   ]
  },
  {
   "cell_type": "code",
   "execution_count": 30,
   "metadata": {},
   "outputs": [
    {
     "ename": "SyntaxError",
     "evalue": "invalid syntax (<ipython-input-30-c442b8f4b119>, line 1)",
     "output_type": "error",
     "traceback": [
      "\u001b[1;36m  File \u001b[1;32m\"<ipython-input-30-c442b8f4b119>\"\u001b[1;36m, line \u001b[1;32m1\u001b[0m\n\u001b[1;33m    pip3 install pymorphy2\u001b[0m\n\u001b[1;37m               ^\u001b[0m\n\u001b[1;31mSyntaxError\u001b[0m\u001b[1;31m:\u001b[0m invalid syntax\n"
     ]
    }
   ],
   "source": [
    "pip3 install pymorphy2"
   ]
  },
  {
   "cell_type": "code",
   "execution_count": null,
   "metadata": {},
   "outputs": [],
   "source": []
  }
 ],
 "metadata": {
  "kernelspec": {
   "display_name": "Python 3",
   "language": "python",
   "name": "python3"
  },
  "language_info": {
   "codemirror_mode": {
    "name": "ipython",
    "version": 3
   },
   "file_extension": ".py",
   "mimetype": "text/x-python",
   "name": "python",
   "nbconvert_exporter": "python",
   "pygments_lexer": "ipython3",
   "version": "3.7.4"
  }
 },
 "nbformat": 4,
 "nbformat_minor": 4
}
